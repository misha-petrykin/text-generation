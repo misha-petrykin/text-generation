{
 "cells": [
  {
   "cell_type": "code",
   "execution_count": 1,
   "metadata": {},
   "outputs": [
    {
     "name": "stderr",
     "output_type": "stream",
     "text": [
      "[nltk_data] Downloading package punkt to /home/misha/nltk_data...\n",
      "[nltk_data]   Unzipping tokenizers/punkt.zip.\n"
     ]
    }
   ],
   "source": [
    "import pandas as pd\n",
    "import numpy as np\n",
    "import random\n",
    "import nltk\n",
    "nltk.download('punkt')\n",
    "import matplotlib.pyplot as plt"
   ]
  },
  {
   "cell_type": "code",
   "execution_count": 2,
   "metadata": {},
   "outputs": [
    {
     "name": "stdout",
     "output_type": "stream",
     "text": [
      "['Hello Mr. Smith, how are you doing today?', 'The weather is great, and city is awesome.', 'The sky is pinkish-blue.', \"You shouldn't eat cardboard\"]\n"
     ]
    }
   ],
   "source": [
    "text=\"\"\"Hello Mr. Smith, how are you doing today? The weather is great, and city is awesome.\n",
    "The sky is pinkish-blue. You shouldn't eat cardboard\"\"\"\n",
    "tokenized_text=nltk.sent_tokenize(text)\n",
    "print(tokenized_text)"
   ]
  },
  {
   "cell_type": "code",
   "execution_count": 44,
   "metadata": {},
   "outputs": [],
   "source": [
    "s = 'One fish two fish red fish blue fish fish fish fish'"
   ]
  },
  {
   "cell_type": "code",
   "execution_count": 3,
   "metadata": {},
   "outputs": [],
   "source": [
    "s=\"\"\"Some say the world will end in fire, \n",
    "Some say in ice.\n",
    "\n",
    "From what I’ve tasted of desire\n",
    "\n",
    "I hold with those who favor fire.\n",
    "\n",
    "But if it had to perish twice,\n",
    "\n",
    "I think I know enough of hate\n",
    "\n",
    "To say that for destruction ice\n",
    "\n",
    "Is also great.\"\"\""
   ]
  },
  {
   "cell_type": "code",
   "execution_count": 14,
   "metadata": {},
   "outputs": [],
   "source": [
    "s=\"\"\"Клены оделись в багрянец. Они стоят, задумавшись, на опушке, словно грустят о том, что пришел октябрь. Иногда тихонько роняют свои резные листья. Внезапный порыв ветра безжалостно срывает осеннюю красу с грустных кленов.\n",
    "Как нежно выглядят золотые березки среди зеленых сосен. Они опустили ветки и печалятся, что скоро придут холода. Похожие на огромных великанов, раскинув ветки, стоят желто-зеленые дубы.\n",
    "Высоко в небе звонко курлычут журавли. Они собираются в стаи и летят на юг. Где-то в вышине перекликаются дикие гуси. В родных краях становится очень холодно, и они вынуждены лететь туда, где тепло. Только воробьи летают вокруг и звонко чирикают, потому что им некуда Спешить.\n",
    "\"\"\""
   ]
  },
  {
   "cell_type": "code",
   "execution_count": null,
   "metadata": {},
   "outputs": [],
   "source": [
    "s='''Несмотря на это, многие писатели и художники ждали это время года, они открыто любовались им. Почему? Тихая безмятежность, буйство красок, неповторимые ароматы - все это привлекало таких мастеров, как Пушкин, Левитан, Тютчев. \"Очей очарованье\" - так назвал осень Александр Сергеевич Пушкин. С ним трудно не согласиться, ведь осенью и правда очень красиво. Но что же, помимо красоты, может привлечь внимание? Именно сейчас, когда природа засыпает, на ум приходят самые поразительные мечты, фантазии и мысли. Возможно, они не такие яркие и позитивные, как весной, зато более философские и глубокие. Для многих очередная осень - это повод для поступков, жизненных изменений, ведь практически сразу за ней следует новый год. Для других осень - это возможность осмыслить все то, что было до, проанализировать свою жизнь, покопаться в себе, что-то исправить. Видимо, поэтому описание природы осенью в художественных произведениях всегда имеет символическое значение. Как же много можно написать об этом времени года! Листья на деревьях из ярко-зеленых становятся сначала бледными, потом постепенно желтеют. Особенно красиво в осеннем лесу, где растут разные виды деревьев. Тогда красок море: от ярко-желтого до темно-бурого. На осинках горят тысячами огней красные дрожащие листья, а на кленах - резные яркие звезды, как будто только что сорвавшиеся с неба. Очень легко и приятно отдыхать на мягком ковре из упавшей листвы, который нам щедро дарует природа. Небо практически всегда серое, оно будто опускается ниже. Но когда выдастся ясный день, то деревья на фоне голубого солнечного неба выглядят еще красивее. (Не бойтесь переборщить с образами и тропами, ведь описание осени в художественном стиле требует особой изысканности речи.) 29 февраля – Касьянов день: что не нужно делать, чтобы удача не покинула вас Певица Сати Казанова назвала надежное средство защиты от коронавируса Чужая собака во дворе, или 5 «домашних» примет, предвещающих богатство Красотой дома кузнеца Кириллова восхищается каждый, но что находится внутри него Самая прекрасная осенняя пора - бабье лето. Воздух становится еще прозрачнее, еще чище. Кажется, что мир вдруг снова пробудился, но это лишь кратковременное явление. Поэтому в бабье лето обязательно нужно совершать прогулки на воздухе. Легкий ветерок приносит паутину, которая прилипает к лицу, но почему-то это совсем не мешает, а наоборот, даже кажется приятным. А затем деревья резко становятся практически обнаженными. Они кажутся такими беззащитными без своих пышных одеяний! Сквозные березовые рощи, голые почернелые поля, стога сена... Особенно приятно смотреть на меняющуюся панораму из окна автомобиля, наблюдать за тем, как один пейзаж сменяет другой. Что мне нравится в осени? Описание золотой осени следует завершить именно этим абзацем. Безусловно, кто-то скажет, что осенью грязно, сыро и холодно. Однако если задуматься, то непременно можно найти массу плюсов в этом времени года. Кто-то любит гулять, кому-то нравится рисовать осень, собирать урожай, готовиться к зиме... Свое мнение, высказанное в тексте, придает ему осмысленность, эмоциональность и доказательность. При написании сочинения необходимо помнить следующее. Главное, чтобы описание осени в художественном стиле получилось емким и завершенным. Также текст должен быть поделен на смысловые отрезки (абзацы). Алла Расторгуева 14 марта, 2015 Статья закончилась. Вопросы остались? Комментарии Отправить Правила публикации Следят за новыми комментариями — 8 Ирина Браславская только что 0 Видимо никому нечего сказать об этой статье. Лазько Наталья только что 0 Жаль мало комментариев. Интересно выслушать еще мнение людей. Видео В 1997 году она родила семерых детей — и ее бросил муж. Как ее дети выглядят сегодня Полный мужчина на танцполе рассмешил зрителей. Они смеялись, пока он не начал танцевать (видео) 14.01.2020 843 13 Видео Маме очень нравилось имя дочери, которое придумал ее муж. И лишь спустя два года она догадалась прочитать его наоборот: папа оказался настоя 28.05.2019 136 38 Год назад 230-килограммовая участница шоу \"Пусть говорят\" просила экспертов избавить ее от лишнего веса: недавно обновленная женщина предстала перед камерами, вызвав шквал аплодисментов 30.10.2019 41 25 Видео Дочка познакомила родителей со своим 85-летним бойфрендом. Вскоре он снял маску и удивил всю семью 08.10.2019 8 2 Видео Артисты, которые 5 лет назад отвернулись от России в поддержку Майдана. Что с ними сейчас? 08.06.2019 398 339 Видео Праздник в племени Боди. Именно тот случай, когда размер имеет значение 08.06.2019 1030 7 Мужчина разрезал бутылки и залил их цементом. Получилась чудесная вещь для сада 24.01.2020 49 29 Темнокожий парень уступил место беременной, но старушка оттолкнула ее и заняла кресло. Ответ парня бабушке рассмешил весь автобус 15.12.2019 480 97 Мужчина нащупал в пойманной рыбе посторонний предмет. Все громко рассмеялись, когда увидели, что было внутри: видео 05.01.2020 60 4 Видео В бане: история в деталях 04.06.2019 340 90 Видео Муж бросил полную жену. Она узнала, что он снова женится, и решила прийти на свадьбу во всеоружии 24.08.2019 327 30 Видео Муж завел себе любовницу и допоздна \"задерживался на работе\". Всего одна вещь, забытая женой в спальне, заставила его забыть про измены 14.07.2019 125 12 Видео Мужчина взял старую ванну и закопал ее в саду. Сейчас результатом его работы любуется весь дачный поселок 23.09.2019 203 3 Видео Девушка купила в магазине палку колбасы, а дома обнаружила в ней флешку. Когда она вставила ее в компьютер, рассмеялась от увиденного 21.10.2019 13 23 Видео Как монахини усмиряют свою плоть 11.06.2019 382 158 Видео Знак избранных: что означает \"Х\" на ладони Видео Моя свекровь всегда надрезает лимоны и засыпает их солью. Узнав причину я стала делать так же 18.07.2019 401 29 Видео Муж посадил тысячу деревьев в честь скончавшейся жены: через 17 лет тайну дубового леса раскрыла аэросъемка 07.05.2019 362 10 Видео Хозяин дома выселил шумную квартирантку: когда вошел в дом, не поверил глазам 09.11.2019 166 24 Соседка просила отдавать ей яичную скорлупу, но не признавалась для чего. Через пару месяцев она показала смысл странного занятия: я очень у 30.09.2019 143 3 Видео Мои дети обожают жареную картошку с корочкой. Чтобы она всегда получалась такой и не разваливалась, я использую хитрости, которым меня научи.\n",
    "'''"
   ]
  },
  {
   "cell_type": "code",
   "execution_count": 4,
   "metadata": {},
   "outputs": [],
   "source": [
    "def to_hist(s, hist=False):\n",
    "    d = {i:(' '+' '.join(nltk.word_tokenize(s.lower()))+' ').count(' '+i+' ') for i in nltk.word_tokenize(s.lower())}\n",
    "    if hist:\n",
    "        pd.DataFrame(d.values(),d.keys()).plot(kind='bar')\n",
    "    return d\n",
    "\n",
    "def to_text(text):\n",
    "    return '. '+' '.join(nltk.word_tokenize(s.lower()))\n",
    "\n",
    "def to_dict(s):\n",
    "    d={i:[] for i in list(set(s.split()))}\n",
    "    for i in range(len(s.split())):\n",
    "        if i!=len(s.split())-1:\n",
    "            d[s.split()[i]].append(s.split()[i+1])\n",
    "        else:\n",
    "            d[s.split()[i]].append('None')\n",
    "    return d\n",
    "\n",
    "def to_mat(s,frame=False, to_dict=False):\n",
    "    d={i:[] for i in list(set(s.split()))}\n",
    "    for i in range(len(s.split())):\n",
    "        if i!=len(s.split())-1:\n",
    "            d[s.split()[i]].append(s.split()[i+1])\n",
    "        else:\n",
    "            d[s.split()[i]].append('None')\n",
    "    if to_dict:\n",
    "        return d\n",
    "    \n",
    "    for i in d:\n",
    "        d[i]={j:''.join(d[i]).count(j) for j in d[i]}\n",
    "    if frame:\n",
    "        return pd.DataFrame(d).replace(np.nan,0).T\n",
    "    else:\n",
    "        return d\n",
    "    \n",
    "def gen_text(s):\n",
    "    d=to_mat(to_text(s))\n",
    "    del d[to_text(s)[-1]]['None']\n",
    "    li=list()\n",
    "    for ss in range(10):\n",
    "        l=random.choice(list(d['.'].keys()))\n",
    "        li.clear()\n",
    "        while True:\n",
    "            li.append(l)\n",
    "            l = random.choice(list(d[l].keys()))\n",
    "            if l =='.': #or len(li)>15:\n",
    "                li.append(l)\n",
    "                break\n",
    "        print(' '.join(li).capitalize())\n",
    "        print('☺')"
   ]
  },
  {
   "cell_type": "code",
   "execution_count": 8,
   "metadata": {},
   "outputs": [
    {
     "data": {
      "text/plain": [
       "{'some': 2,\n",
       " 'say': 3,\n",
       " 'the': 1,\n",
       " 'world': 1,\n",
       " 'will': 1,\n",
       " 'end': 1,\n",
       " 'in': 2,\n",
       " 'fire': 2,\n",
       " ',': 2,\n",
       " 'ice': 2,\n",
       " '.': 3,\n",
       " 'from': 1,\n",
       " 'what': 1,\n",
       " 'i': 4,\n",
       " '’': 1,\n",
       " 've': 1,\n",
       " 'tasted': 1,\n",
       " 'of': 2,\n",
       " 'desire': 1,\n",
       " 'hold': 1,\n",
       " 'with': 1,\n",
       " 'those': 1,\n",
       " 'who': 1,\n",
       " 'favor': 1,\n",
       " 'but': 1,\n",
       " 'if': 1,\n",
       " 'it': 1,\n",
       " 'had': 1,\n",
       " 'to': 2,\n",
       " 'perish': 1,\n",
       " 'twice': 1,\n",
       " 'think': 1,\n",
       " 'know': 1,\n",
       " 'enough': 1,\n",
       " 'hate': 1,\n",
       " 'that': 1,\n",
       " 'for': 1,\n",
       " 'destruction': 1,\n",
       " 'is': 1,\n",
       " 'also': 1,\n",
       " 'great': 1}"
      ]
     },
     "execution_count": 8,
     "metadata": {},
     "output_type": "execute_result"
    },
    {
     "data": {
      "image/png": "[encoded data removed]",
      "text/plain": [
       "<Figure size 432x288 with 1 Axes>"
      ]
     },
     "metadata": {
      "needs_background": "light"
     },
     "output_type": "display_data"
    }
   ],
   "source": [
    "to_hist(s,hist=True)"
   ]
  },
  {
   "cell_type": "code",
   "execution_count": 18,
   "metadata": {},
   "outputs": [
    {
     "data": {
      "text/plain": [
       "{'тепло.': {'Только': 1},\n",
       " 'Где-то': {'в': 1},\n",
       " 'опустили': {'ветки': 1},\n",
       " 'где': {'тепло.': 1},\n",
       " 'опушке,': {'словно': 1},\n",
       " 'Высоко': {'в': 1},\n",
       " 'летят': {'на': 1},\n",
       " 'стоят,': {'задумавшись,': 1},\n",
       " 'в': {'багрянец.': 1, 'небе': 1, 'стаи': 1, 'вышине': 1},\n",
       " 'чирикают,': {'потому': 1},\n",
       " 'небе': {'звонко': 1},\n",
       " 'вынуждены': {'лететь': 1},\n",
       " 'раскинув': {'ветки,': 1},\n",
       " 'краях': {'становится': 1},\n",
       " 'родных': {'краях': 1},\n",
       " 'оделись': {'в': 1},\n",
       " 'сосен.': {'Они': 1},\n",
       " 'осеннюю': {'красу': 1},\n",
       " 'становится': {'очень': 1},\n",
       " 'Спешить.': {'None': 1},\n",
       " 'они': {'вынуждены': 1},\n",
       " 'кленов.': {'Как': 1},\n",
       " 'роняют': {'свои': 1},\n",
       " 'выглядят': {'золотые': 1},\n",
       " 'холода.': {'Похожие': 1},\n",
       " 'летают': {'вокруг': 1},\n",
       " 'березки': {'среди': 1},\n",
       " 'Они': {'стоят,': 1, 'опустили': 1, 'собираются': 1},\n",
       " 'золотые': {'березки': 1},\n",
       " 'том,': {'что': 1},\n",
       " 'придут': {'холода.': 1},\n",
       " 'туда,': {'где': 1},\n",
       " 'гуси.': {'В': 1},\n",
       " 'резные': {'листья.': 1},\n",
       " 'юг.': {'Где-то': 1},\n",
       " 'великанов,': {'раскинув': 1},\n",
       " 'им': {'некуда': 1},\n",
       " 'некуда': {'Спешить.': 1},\n",
       " 'листья.': {'Внезапный': 1},\n",
       " 'Клены': {'оделись': 1},\n",
       " 'дубы.': {'Высоко': 1},\n",
       " 'вышине': {'перекликаются': 1},\n",
       " 'багрянец.': {'Они': 1},\n",
       " 'красу': {'с': 1},\n",
       " 'воробьи': {'летают': 1},\n",
       " 'желто-зеленые': {'дубы.': 1},\n",
       " 'октябрь.': {'Иногда': 1},\n",
       " 'лететь': {'туда,': 1},\n",
       " 'словно': {'грустят': 1},\n",
       " 'холодно,': {'и': 1},\n",
       " 'собираются': {'в': 1},\n",
       " 'вокруг': {'и': 1},\n",
       " 'свои': {'резные': 1},\n",
       " 'срывает': {'осеннюю': 1},\n",
       " 'Внезапный': {'порыв': 1},\n",
       " 'Похожие': {'на': 1},\n",
       " 'что': {'пришел': 1, 'скоро': 1, 'им': 1},\n",
       " 'печалятся,': {'что': 1},\n",
       " 'ветки': {'и': 1},\n",
       " 'стаи': {'и': 1},\n",
       " 'Только': {'воробьи': 1},\n",
       " 'с': {'грустных': 1},\n",
       " 'безжалостно': {'срывает': 1},\n",
       " 'скоро': {'придут': 1},\n",
       " 'на': {'опушке,': 1, 'огромных': 1, 'юг.': 1},\n",
       " 'перекликаются': {'дикие': 1},\n",
       " 'очень': {'холодно,': 1},\n",
       " 'ветра': {'безжалостно': 1},\n",
       " 'курлычут': {'журавли.': 1},\n",
       " 'грустят': {'о': 1},\n",
       " 'стоят': {'желто-зеленые': 1},\n",
       " 'В': {'родных': 1},\n",
       " 'потому': {'что': 1},\n",
       " 'звонко': {'курлычут': 1, 'чирикают,': 1},\n",
       " 'Как': {'нежно': 1},\n",
       " 'огромных': {'великанов,': 1},\n",
       " 'Иногда': {'тихонько': 1},\n",
       " 'журавли.': {'Они': 1},\n",
       " 'пришел': {'октябрь.': 1},\n",
       " 'ветки,': {'стоят': 1},\n",
       " 'среди': {'зеленых': 1},\n",
       " 'и': {'печалятся,': 1, 'летят': 1, 'они': 1, 'звонко': 1},\n",
       " 'нежно': {'выглядят': 1},\n",
       " 'порыв': {'ветра': 1},\n",
       " 'зеленых': {'сосен.': 1},\n",
       " 'о': {'том,': 1},\n",
       " 'грустных': {'кленов.': 1},\n",
       " 'задумавшись,': {'на': 1},\n",
       " 'дикие': {'гуси.': 1},\n",
       " 'тихонько': {'роняют': 1}}"
      ]
     },
     "execution_count": 18,
     "metadata": {},
     "output_type": "execute_result"
    }
   ],
   "source": [
    "to_mat(s)"
   ]
  },
  {
   "cell_type": "code",
   "execution_count": 17,
   "metadata": {},
   "outputs": [
    {
     "name": "stdout",
     "output_type": "stream",
     "text": [
      "Похожие на опушке , на опушке , что пришел октябрь .\n",
      "☺\n",
      "Как нежно выглядят золотые березки среди зеленых сосен .\n",
      "☺\n",
      "Как нежно выглядят золотые березки среди зеленых сосен .\n",
      "☺\n",
      "В небе звонко чирикают , потому что скоро придут холода .\n",
      "☺\n",
      "Иногда тихонько роняют свои резные листья .\n",
      "☺\n",
      "Как нежно выглядят золотые березки среди зеленых сосен .\n",
      "☺\n",
      "Клены оделись в вышине перекликаются дикие гуси .\n",
      "☺\n",
      "Они стоят желто-зеленые дубы .\n",
      "☺\n",
      "Высоко в вышине перекликаются дикие гуси .\n",
      "☺\n",
      "Как нежно выглядят золотые березки среди зеленых сосен .\n",
      "☺\n"
     ]
    }
   ],
   "source": [
    "gen_text(s)"
   ]
  },
  {
   "cell_type": "code",
   "execution_count": 7,
   "metadata": {},
   "outputs": [],
   "source": [
    "l=list()\n",
    "for i in range(len(s.split())):\n",
    "    if s.split()[i]!='END':\n",
    "        l.append((s.split()[i],s.split()[i+1]))\n",
    "    else:\n",
    "        l.append((s.split()[i],None))"
   ]
  },
  {
   "cell_type": "code",
   "execution_count": 23,
   "metadata": {},
   "outputs": [
    {
     "data": {
      "text/plain": [
       "{'fish': {'two': 1, 'red': 1, 'blue': 1, 'END': 1},\n",
       " 'One': {'fish': 1},\n",
       " 'blue': {'fish': 1},\n",
       " 'red': {'fish': 1},\n",
       " 'START': {'One': 1},\n",
       " 'two': {'fish': 1},\n",
       " 'END': {'None': 1}}"
      ]
     },
     "execution_count": 23,
     "metadata": {},
     "output_type": "execute_result"
    }
   ],
   "source": [
    "d=to_mat(s)\n",
    "to_l(['two', 'red', 'blue', 'END'])\n",
    "for i in d:\n",
    "    d[i]=to_l(d[i])\n",
    "d"
   ]
  }
 ],
 "metadata": {
  "kernelspec": {
   "display_name": "Python 3",
   "language": "python",
   "name": "python3"
  },
  "language_info": {
   "codemirror_mode": {
    "name": "ipython",
    "version": 3
   },
   "file_extension": ".py",
   "mimetype": "text/x-python",
   "name": "python",
   "nbconvert_exporter": "python",
   "pygments_lexer": "ipython3",
   "version": "3.7.6"
  }
 },
 "nbformat": 4,
 "nbformat_minor": 2
}
